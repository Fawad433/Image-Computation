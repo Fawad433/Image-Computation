{
 "cells": [
  {
   "cell_type": "markdown",
   "metadata": {},
   "source": [
    "# Definations  "
   ]
  },
  {
   "cell_type": "code",
   "execution_count": 23,
   "metadata": {
    "collapsed": true
   },
   "outputs": [],
   "source": [
    "# import tarfile\n",
    "import numpy as np\n",
    "import re\n",
    "from glob import glob\n",
    "import pandas as pd\n",
    "import pickle\n",
    "import os\n",
    "import wget\n",
    "import tensorflow as tf\n",
    "from IPython import display\n",
    "import matplotlib.pyplot as plt\n",
    "from mammo_utils import extract_tar, read_pgm, download_file\n",
    "from mammo_utils import remove_white_from_image, slice_normal_image, create_slices, read_pgm, get_roi_edges, get_fuzzy_offset, get_roi_edges, random_flip_image, progress, extract_slice\n",
    "%matplotlib inline"
   ]
  },
  {
   "cell_type": "markdown",
   "metadata": {},
   "source": [
    "# Get The Image "
   ]
  },
  {
   "cell_type": "code",
   "execution_count": 24,
   "metadata": {
    "collapsed": true
   },
   "outputs": [],
   "source": [
    "# Get the image \n",
    "# define the image type \n",
    "type = 'pgm'\n",
    "image_name = 'mdb004.pgm'\n",
    "if type == 'pgm':\n",
    "    image = read_pgm('all-mias/' +  image_name)"
   ]
  },
  {
   "cell_type": "markdown",
   "metadata": {},
   "source": [
    "# Image Information"
   ]
  },
  {
   "cell_type": "markdown",
   "metadata": {},
   "source": [
    "This information is important so that we can get the infected patch and feed it to the trained model for prediction."
   ]
  },
  {
   "cell_type": "code",
   "execution_count": 25,
   "metadata": {
    "collapsed": true
   },
   "outputs": [],
   "source": [
    "# Get the Region Of Interest\n",
    "RADIUS = 30\n",
    "X = '522'\n",
    "Y = '280'\n",
    "class_img = \"CIRC\"\n",
    "severity = \"B\""
   ]
  },
  {
   "cell_type": "markdown",
   "metadata": {},
   "source": [
    "# Getting the Sliced Image "
   ]
  },
  {
   "cell_type": "code",
   "execution_count": 26,
   "metadata": {
    "collapsed": true
   },
   "outputs": [],
   "source": [
    "def class_generator(severity, class_img):    \n",
    "    if severity == \"M\":\n",
    "        label_img = \"MALIGNANT_\"\n",
    "            \n",
    "    else:\n",
    "        label_img = \"BENIGN_\"\n",
    "    \n",
    "    return label_img"
   ]
  },
  {
   "cell_type": "code",
   "execution_count": 27,
   "metadata": {
    "collapsed": true
   },
   "outputs": [],
   "source": [
    "def create_slice(X,Y,RADIUS,severity,class_img,image_name,pgm_dir=\"all-mias/\", scale_by=2.2, slice_size=299, \n",
    "                       var_upper_threshold=2000, var_lower_threshold=20, mean_threshold=38, \n",
    "                       debug=True):\n",
    "    # loop through rows in the data frame\n",
    "    slic = [] # for saving the slices \n",
    "    name = [] # for saving the names \n",
    "    label = [] # for saving the labels \n",
    "    \n",
    "    try:\n",
    "        full_image_arr = read_pgm('all-mias/' +  image_name)\n",
    "    except:\n",
    "        print(image_name, \"file not found!\")\n",
    "        return 0     \n",
    "\n",
    "    # get the shape of the image\n",
    "    image_h, image_w = full_image_arr.shape\n",
    "\n",
    "    # get the class of the image\n",
    "    image_class = class_generator(severity, class_img)\n",
    "    if debug is True:          \n",
    "        # get the size and shape of the ROI, NOT offset by the number of columns trimmed off\n",
    "        center_col = int(X)# * scale_by)\n",
    "        center_row = image_h - int(Y)# * scale_by)\n",
    "\n",
    "        # the ROI is square so we don't need to get the sizes individually\n",
    "        roi_size = mask_height = mask_width = mask_size = RADIUS * scale_by\n",
    "\n",
    "        #####################################################################################\n",
    "        ## extract the ROI with context size equal to double ROI size and random augmentation\n",
    "        if debug:\n",
    "            print(\"Adding ROI at size\", image_name)\n",
    "\n",
    "        img_slice = extract_slice(full_image_arr, center_col, center_row, roi_size, padding=1.2, context_scale=2, return_slice_size=299, distort=False)\n",
    "        #print(img_slice.shape)\n",
    "        if img_slice.shape == (299,299, 1):\n",
    "            slic = img_slice\n",
    "            name = image_name\n",
    "            label = image_class\n",
    "\n",
    "\n",
    "    return slic, label, name"
   ]
  },
  {
   "cell_type": "code",
   "execution_count": 54,
   "metadata": {
    "scrolled": true
   },
   "outputs": [
    {
     "name": "stdout",
     "output_type": "stream",
     "text": [
      "Adding ROI at size mdb004.pgm\n"
     ]
    }
   ],
   "source": [
    "in_image, labels, filenames = create_slice(X,Y,RADIUS,severity,class_img,image_name)"
   ]
  },
  {
   "cell_type": "markdown",
   "metadata": {},
   "source": [
    "Converting image and label into readable form..."
   ]
  },
  {
   "cell_type": "code",
   "execution_count": 55,
   "metadata": {},
   "outputs": [
    {
     "name": "stdout",
     "output_type": "stream",
     "text": [
      "[1]\n"
     ]
    }
   ],
   "source": [
    "in_image = in_image.reshape(1,in_image.shape[0], in_image.shape[1], 1) \n",
    "from sklearn import preprocessing\n",
    "le = preprocessing.LabelEncoder()\n",
    "le.fit([labels])\n",
    "labels_enc = le.transform([labels]) + 1\n",
    "print(labels_enc)"
   ]
  },
  {
   "cell_type": "code",
   "execution_count": 58,
   "metadata": {
    "collapsed": true
   },
   "outputs": [],
   "source": [
    "model_name = \"model\"\n",
    "config = tf.ConfigProto(device_count = {'GPU': 0})"
   ]
  },
  {
   "cell_type": "markdown",
   "metadata": {},
   "source": [
    "# Restoring and Getting the prediction "
   ]
  },
  {
   "cell_type": "code",
   "execution_count": 65,
   "metadata": {},
   "outputs": [
    {
     "name": "stdout",
     "output_type": "stream",
     "text": [
      "INFO:tensorflow:Restoring parameters from model/model.ckpt\n",
      "1\n"
     ]
    }
   ],
   "source": [
    "x = tf.placeholder(tf.float32, [1,299,299,1])\n",
    "with tf.Session() as sess:\n",
    "        new_saver = tf.train.import_meta_graph(\"model/model.ckpt.meta\")\n",
    "        new_saver.restore(sess, tf.train.latest_checkpoint('model/'))\n",
    "\n",
    "\n",
    "        prediction=tf.cast(labels_enc[0], tf.int64)\n",
    "        print(prediction.eval(feed_dict={x: in_image}, session=sess)) # predicted value \n",
    "\n",
    "        "
   ]
  },
  {
   "cell_type": "markdown",
   "metadata": {},
   "source": [
    "#Above predicted value means B if it's \"1\",  otherwise M\n"
   ]
  },
  {
   "cell_type": "code",
   "execution_count": null,
   "metadata": {
    "collapsed": true
   },
   "outputs": [],
   "source": []
  }
 ],
 "metadata": {
  "kernelspec": {
   "display_name": "Python 3",
   "language": "python",
   "name": "python3"
  },
  "language_info": {
   "codemirror_mode": {
    "name": "ipython",
    "version": 3
   },
   "file_extension": ".py",
   "mimetype": "text/x-python",
   "name": "python",
   "nbconvert_exporter": "python",
   "pygments_lexer": "ipython3",
   "version": "3.6.3"
  }
 },
 "nbformat": 4,
 "nbformat_minor": 2
}
